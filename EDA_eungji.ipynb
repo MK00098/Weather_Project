{
 "cells": [
  {
   "cell_type": "code",
   "execution_count": null,
   "id": "1c0fbe58",
   "metadata": {},
   "outputs": [],
   "source": [
    "# 데이터 읽기"
   ]
  },
  {
   "cell_type": "code",
   "execution_count": null,
   "id": "204b8e7e",
   "metadata": {},
   "outputs": [],
   "source": []
  }
 ],
 "metadata": {
  "language_info": {
   "name": "python"
  }
 },
 "nbformat": 4,
 "nbformat_minor": 5
}
