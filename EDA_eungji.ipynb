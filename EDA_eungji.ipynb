{
 "cells": [
  {
   "cell_type": "markdown",
   "id": "b32b6a4c",
   "metadata": {},
   "source": [
    "### 데이터 읽기"
   ]
  },
  {
   "cell_type": "code",
   "execution_count": null,
   "id": "204b8e7e",
   "metadata": {},
   "outputs": [],
   "source": [
    "import pandas as pd\n",
    "\n",
    "# CSV 파일 읽기\n",
    "call119 = pd.read_csv('call119_train.csv')\n",
    "cat119 = pd.read_csv('cat119_train.csv')\n",
    "test_call119 = pd.read_csv('test_call119.csv', encoding='cp949')\n",
    "test_cat119 = pd.read_csv('test_cat119.csv', encoding='cp949')\n",
    "solar = pd.read_csv('solar_data.csv', encoding='cp949')\n"
   ]
  },
  {
   "cell_type": "code",
   "execution_count": null,
   "id": "cef731e9",
   "metadata": {},
   "outputs": [],
   "source": [
    "# 데이터 확인\n",
    "print(\"call119_train.csv\")\n",
    "call119.head(10)"
   ]
  },
  {
   "cell_type": "code",
   "execution_count": null,
   "id": "403fc3a7",
   "metadata": {},
   "outputs": [],
   "source": [
    "print(\"cat119_train.csv\")\n",
    "cat119.head(10)"
   ]
  },
  {
   "cell_type": "code",
   "execution_count": null,
   "id": "34ecc10f",
   "metadata": {},
   "outputs": [],
   "source": [
    "print(\"cat119_train.csv\")\n",
    "solar.head(10)"
   ]
  },
  {
   "cell_type": "code",
   "execution_count": null,
   "id": "97f98fc1",
   "metadata": {},
   "outputs": [],
   "source": [
    "call119.tail()"
   ]
  },
  {
   "cell_type": "code",
   "execution_count": null,
   "id": "dd9b1e29",
   "metadata": {},
   "outputs": [],
   "source": [
    "cat119.tail()"
   ]
  },
  {
   "cell_type": "code",
   "execution_count": null,
   "id": "1235bdcb",
   "metadata": {},
   "outputs": [],
   "source": [
    "solar.tail()"
   ]
  },
  {
   "cell_type": "code",
   "execution_count": null,
   "id": "770eaa64",
   "metadata": {},
   "outputs": [],
   "source": [
    "# Info\n",
    "call119.info()"
   ]
  },
  {
   "cell_type": "code",
   "execution_count": null,
   "id": "bba94a67",
   "metadata": {},
   "outputs": [],
   "source": [
    "cat119.info()"
   ]
  },
  {
   "cell_type": "code",
   "execution_count": null,
   "id": "79bdb313",
   "metadata": {},
   "outputs": [],
   "source": [
    "solar.info()"
   ]
  },
  {
   "cell_type": "code",
   "execution_count": null,
   "id": "9f823d4e",
   "metadata": {},
   "outputs": [],
   "source": [
    "# Describe\n",
    "call119.describe()"
   ]
  },
  {
   "cell_type": "code",
   "execution_count": null,
   "id": "edab0961",
   "metadata": {},
   "outputs": [],
   "source": [
    "cat119.describe()"
   ]
  },
  {
   "cell_type": "code",
   "execution_count": null,
   "id": "4d6e819d",
   "metadata": {},
   "outputs": [],
   "source": [
    "solar.describe()"
   ]
  },
  {
   "cell_type": "markdown",
   "id": "d1d7650e",
   "metadata": {},
   "source": [
    "### 컬럼명 정리와 전처리"
   ]
  },
  {
   "cell_type": "code",
   "execution_count": null,
   "id": "bd6b3456",
   "metadata": {},
   "outputs": [],
   "source": [
    "import numpy as np\n",
    "import pandas as pd\n",
    "from sklearn.model_selection import train_test_split\n",
    "import xgboost as xgb\n",
    "\n",
    "\n",
    "call119.columns = [col.replace('call119_train.', '') for col in call119.columns]\n",
    "test_call119.columns = test_call119.columns.str.lower()\n",
    "\n",
    "test_call119.columns = [col.upper() if col == 'tm' else col for col in test_call119.columns]\n"
   ]
  },
  {
   "cell_type": "code",
   "execution_count": null,
   "id": "72ecbaaf",
   "metadata": {},
   "outputs": [],
   "source": [
    "# WBGT 함수\n",
    "def calculate_wbgt(ta_max, ta_min, rh_max, rh_min, ws_ins_max, avg_solar):\n",
    "    t_avg = (ta_max + ta_min) / 2\n",
    "    rh_avg = (rh_max + rh_min) / 2\n",
    "    e = rh_avg / 100 * 6.105 * np.exp((17.27 * t_avg) / (237.7 + t_avg))\n",
    "    wbgt_base = 0.567 * t_avg + 0.393 * e + 3.94\n",
    "    alpha = 1.0\n",
    "    beta = 0.5\n",
    "    solar_factor = (avg_solar / 800) if avg_solar is not None else 0\n",
    "    wind = ws_ins_max if ws_ins_max is not None else 0\n",
    "    return wbgt_base + alpha * solar_factor - beta * wind"
   ]
  },
  {
   "cell_type": "code",
   "execution_count": null,
   "id": "ef1c9cbd",
   "metadata": {},
   "outputs": [],
   "source": [
    "call119['TM'] = pd.to_datetime(call119['tm'], format='%Y%m%d')\n",
    "cat119['TM'] = pd.to_datetime(cat119['cat119_train.tm'], format='%Y%m%d')\n",
    "solar['TM'] = pd.to_datetime(solar['일시'], format='%Y-%m-%d')\n",
    "test_call119['TM'] = pd.to_datetime(test_call119['TM'], format='%Y%m%d')\n",
    "test_cat119['TM'] = pd.to_datetime(test_call119['TM'], format='%Y%m%d')\n",
    "\n",
    "\n",
    "call119['WBGT'] = calculate_wbgt(\n",
    "    call119['ta_max'], call119['ta_min'], \n",
    "    call119['hm_max'], call119['hm_min'], \n",
    "    call119['ws_ins_max'], call119['avg_solar']\n",
    ")\n",
    "\n",
    "# test도 동일하게 처리\n",
    "test_call119['WBGT'] = calculate_wbgt(\n",
    "    test_call119['ta_max'], test_call119['ta_min'], \n",
    "    test_call119['hm_max'], test_call119['hm_min'], \n",
    "    test_call119['ws_ins_max'], test_call119['avg_solar']\n",
    ")\n",
    "\n",
    "\n",
    "# --- 계절성 반영 변수 추가 (month, weekday) ---\n",
    "call119['month'] = call119['TM'].dt.month\n",
    "call119['weekday'] = call119['TM'].dt.weekday\n",
    "test_call119['month'] = test_call119['TM'].dt.month\n",
    "test_call119['weekday'] = test_call119['TM'].dt.weekday\n",
    "\n",
    "\n",
    "\n",
    "# solar 전처리\n",
    "solar['avg_solar'] = solar['합계 일사량(MJ/m2)'] * 11.574\n",
    "solar = solar[['TM', '지점', 'avg_solar']].rename(columns={'지점': 'stn'})"
   ]
  },
  {
   "cell_type": "code",
   "execution_count": null,
   "id": "3d6ac80d",
   "metadata": {},
   "outputs": [],
   "source": [
    "# sub_address 원-핫 인코딩 + 시간 변수 원-핫 인코딩\n",
    "call119 = pd.get_dummies(call119, columns=['sub_address', 'month', 'weekday'], prefix=['addr', 'month', 'weekday'])\n",
    "test_call119 = pd.get_dummies(test_call119, columns=['sub_address', 'month', 'weekday'], prefix=['addr', 'month', 'weekday'])\n",
    "\n",
    "# train과 test 간 sub_addr 컬럼 맞추기\n",
    "train_cols = set(call119.columns)\n",
    "test_cols = set(test_call119.columns)\n",
    "\n",
    "for col in train_cols - test_cols:\n",
    "    test_call119[col] = 0\n",
    "for col in test_cols - train_cols:\n",
    "    call119[col] = 0\n",
    "\n",
    "# 정렬 (열 순서 일치)\n",
    "call119 = call119.sort_index(axis=1)\n",
    "test_call119 = test_call119.sort_index(axis=1)"
   ]
  },
  {
   "cell_type": "code",
   "execution_count": null,
   "id": "41c9afbf",
   "metadata": {},
   "outputs": [],
   "source": [
    "from sklearn.metrics import r2_score\n",
    "from sklearn.metrics import mean_squared_error\n",
    "\n",
    "# 6. 피처 및 타겟 설정\n",
    "features = [col for col in call119.columns if col not in ['call_count', 'TM', 'tm']]  # 불필요 컬럼 제외\n",
    "X = call119[features]\n",
    "y = np.log1p(call119['call_count'])  # 로그 변환\n",
    "\n",
    "# 7. 학습/검증 분리\n",
    "X_train, X_val, y_train, y_val = train_test_split(X, y, test_size=0.2, random_state=42)\n",
    "\n",
    "# 8. 모델 학습 (튜닝 포함)\n",
    "model = xgb.XGBRegressor(\n",
    "    n_estimators=300,\n",
    "    max_depth=6,\n",
    "    learning_rate=0.05,\n",
    "    subsample=0.8,\n",
    "    colsample_bytree=0.8,\n",
    "    random_state=42\n",
    ")\n",
    "\n",
    "model.fit(X_train, y_train)\n",
    "\n",
    "# 9. 평가\n",
    "val_pred = model.predict(X_val)\n",
    "val_pred_real = np.expm1(val_pred)\n",
    "y_val_real = np.expm1(y_val)\n",
    "\n",
    "r2 = r2_score(y_val_real, val_pred_real)\n",
    "rmse = np.sqrt(mean_squared_error(y_val_real, val_pred_real))\n",
    "\n",
    "print(f\"✅ R² Score: {r2:.4f}\")\n",
    "print(f\"✅ RMSE: {rmse:.4f}\")"
   ]
  },
  {
   "cell_type": "code",
   "execution_count": null,
   "id": "df09afe2",
   "metadata": {},
   "outputs": [],
   "source": [
    "solar.columns"
   ]
  },
  {
   "cell_type": "code",
   "execution_count": null,
   "id": "0594c186",
   "metadata": {},
   "outputs": [],
   "source": [
    "call119.columns\n"
   ]
  },
  {
   "cell_type": "code",
   "execution_count": null,
   "id": "4da51777",
   "metadata": {},
   "outputs": [],
   "source": [
    "cat119 = cat119.rename(columns=lambda x: x.replace('cat119_train.', '') if x.startswith('cat119_train.') else x)\n",
    "cat119.columns"
   ]
  },
  {
   "cell_type": "code",
   "execution_count": null,
   "id": "f27de05b",
   "metadata": {},
   "outputs": [],
   "source": [
    "test_call119.columns"
   ]
  },
  {
   "cell_type": "code",
   "execution_count": null,
   "id": "bc70f422",
   "metadata": {},
   "outputs": [],
   "source": [
    "# 병합 전 데이터타입 확인\n",
    "print(test_call119['TM'].dtype)\n",
    "print(solar['TM'].dtype)\n",
    "print(test_cat119['TM'].dtype)"
   ]
  },
  {
   "cell_type": "markdown",
   "id": "bd1b11d1",
   "metadata": {},
   "source": [
    "### 변경 후 학습/예측 코드 수정"
   ]
  },
  {
   "cell_type": "code",
   "execution_count": null,
   "id": "97c7de69",
   "metadata": {},
   "outputs": [],
   "source": [
    "call119['WBGT'] = calculate_wbgt(\n",
    "    call119['ta_max'], call119['ta_min'], \n",
    "    call119['hm_max'], call119['hm_min'], \n",
    "    call119['ws_ins_max'], call119['avg_solar']\n",
    ")\n",
    "\n",
    "# test도 동일하게 처리\n",
    "test_call119['WBGT'] = calculate_wbgt(\n",
    "    test_call119['ta_max'], test_call119['ta_min'], \n",
    "    test_call119['hm_max'], test_call119['hm_min'], \n",
    "    test_call119['ws_ins_max'], test_call119['avg_solar']\n",
    ")"
   ]
  },
  {
   "cell_type": "code",
   "execution_count": null,
   "id": "559ad525",
   "metadata": {},
   "outputs": [],
   "source": [
    "X = call119[features]"
   ]
  },
  {
   "cell_type": "code",
   "execution_count": null,
   "id": "c8645834",
   "metadata": {},
   "outputs": [],
   "source": [
    "# 원-핫 인코딩된 sub_address 컬럼들 포함\n",
    "sub_addr_cols = [col for col in call119.columns if col.startswith('sub_addr_')]\n",
    "features = ['ta_max', 'ta_min', 'ta_max_min', 'hm_max', 'hm_min',\n",
    "            'ws_max', 'ws_ins_max', 'rn_day', 'WBGT', 'month', 'weekday'] + sub_addr_cols\n",
    "\n",
    "target = 'call_count'\n",
    "\n",
    "X = call119[features]\n",
    "y = call119[target]\n",
    "\n",
    "from sklearn.model_selection import train_test_split\n",
    "import xgboost as xgb\n",
    "from sklearn.metrics import r2_score, mean_squared_error\n",
    "import numpy as np\n",
    "\n",
    "X_train, X_val, y_train, y_val = train_test_split(X, y, test_size=0.2, random_state=42)\n",
    "\n",
    "model = xgb.XGBRegressor(n_estimators=100, max_depth=4, learning_rate=0.1)\n",
    "model.fit(X_train, y_train)\n",
    "\n",
    "# 예측 및 평가\n",
    "val_pred = model.predict(X_val)\n",
    "print(\"R² Score:\", round(r2_score(y_val, val_pred), 4))\n",
    "print(\"RMSE:\", round(np.sqrt(mean_squared_error(y_val, val_pred)), 4))"
   ]
  },
  {
   "cell_type": "code",
   "execution_count": null,
   "id": "76e6ce7c",
   "metadata": {},
   "outputs": [],
   "source": []
  },
  {
   "cell_type": "code",
   "execution_count": null,
   "id": "24c621ea",
   "metadata": {},
   "outputs": [],
   "source": []
  },
  {
   "cell_type": "code",
   "execution_count": null,
   "id": "5bb5f43b",
   "metadata": {},
   "outputs": [],
   "source": []
  },
  {
   "cell_type": "code",
   "execution_count": null,
   "id": "b98dfe80",
   "metadata": {},
   "outputs": [],
   "source": [
    "solar['avg_solar'] = solar['avg_solar'] * 11.574\n",
    "solar = solar[['TM', 'stn', 'avg_solar']]\n",
    "solar = solar.rename(columns={'지점': 'stn'})\n",
    "\n",
    "# call119 데이터 병합\n",
    "call119 = call119.merge(solar, left_on=['TM', 'stn'], right_on=['TM', 'stn'], how='left')\n",
    "test_call119 = test_call119.merge(solar, left_on=['TM', 'stn'], right_on=['TM', 'stn'], how='left')"
   ]
  },
  {
   "cell_type": "code",
   "execution_count": null,
   "id": "c55fff74",
   "metadata": {},
   "outputs": [],
   "source": [
    "import numpy as np\n",
    "call119['WBGT'] = calculate_wbgt(call119['ta_max'], call119['ta_min'], call119['hm_max'], call119['hm_min'], call119['ws_ins_max'], call119['avg_solar'])\n",
    "test_call119['WBGT'] = calculate_wbgt(test_call119['ta_max'], test_call119['ta_min'], test_call119['hm_max'], test_call119['hm_min'], test_call119['ws_ins_max'], test_call119['avg_solar'])"
   ]
  },
  {
   "cell_type": "code",
   "execution_count": null,
   "id": "8cd5789f",
   "metadata": {},
   "outputs": [],
   "source": [
    "# 경로확인\n",
    "# import sys\n",
    "# print(sys.executable)"
   ]
  },
  {
   "cell_type": "code",
   "execution_count": null,
   "id": "7eaa2b80",
   "metadata": {},
   "outputs": [],
   "source": [
    "from sklearn.model_selection import train_test_split\n",
    "import xgboost as xgb\n",
    "\n",
    "features = ['ta_max', 'ta_min', 'ta_max_min', 'hm_max', 'hm_min', 'ws_max', 'ws_ins_max', 'rn_day', 'WBGT']\n",
    "target = 'call_count'\n",
    "\n",
    "X = call119[features]\n",
    "y = call119[target]\n",
    "\n",
    "X_train, X_val, y_train, y_val = train_test_split(X, y, test_size=0.2, random_state=42)\n",
    "\n",
    "model = xgb.XGBRegressor(n_estimators=100, max_depth=4, learning_rate=0.1)\n",
    "model.fit(X_train, y_train)\n",
    "\n",
    "# 예측\n",
    "val_pred = model.predict(X_val)"
   ]
  },
  {
   "cell_type": "code",
   "execution_count": null,
   "id": "e122cef9",
   "metadata": {},
   "outputs": [],
   "source": [
    "from sklearn.metrics import r2_score\n",
    "from sklearn.metrics import mean_squared_error\n",
    "\n",
    "r2 = r2_score(y_val, val_pred)\n",
    "rmse = np.sqrt(mean_squared_error(y_val, val_pred))\n",
    "\n",
    "print(f'R² Score: {r2:.4f}')\n",
    "print(f'RMSE: {rmse:.4f}')"
   ]
  },
  {
   "cell_type": "code",
   "execution_count": null,
   "id": "5cb190b1",
   "metadata": {},
   "outputs": [],
   "source": []
  },
  {
   "cell_type": "markdown",
   "id": "d79a153b",
   "metadata": {},
   "source": [
    "### 함수 선언 전에 컬럼 정리한 후 다시 ㄱㄱ"
   ]
  },
  {
   "cell_type": "code",
   "execution_count": null,
   "id": "cd34cad3",
   "metadata": {},
   "outputs": [],
   "source": [
    "# def merge_and_predict(call119, solar):\n",
    "#     import pandas as pd\n",
    "#     from sklearn.model_selection import train_test_split\n",
    "#     from sklearn.linear_model import LinearRegression\n",
    "#     from sklearn.metrics import mean_squared_error, r2_score\n",
    "\n",
    "#     # 컬럼명 정리\n",
    "#     call119 = call119.rename(columns=lambda x: x.replace('call119_train.', '') if x.startswith('call119_train.') else x)\n",
    "\n",
    "#     # 날짜 타입 변환\n",
    "#     if 'TM' not in call119.columns:\n",
    "#         call119['TM'] = pd.to_datetime(call119['tm'].astype(str), format='%Y%m%d')\n",
    "#     else:\n",
    "#         call119['TM'] = pd.to_datetime(call119['TM'])\n",
    "#     solar['TM'] = pd.to_datetime(solar['TM'])\n",
    "\n",
    "#     # 병합\n",
    "#     merged = call119.merge(solar[['TM', 'avg_solar']], on='TM', how='left')\n",
    "\n",
    "#     # 범주형 컬럼 자동 인코딩 (문자열 전부)\n",
    "#     cat_cols = merged.select_dtypes(include=['object']).columns.tolist()\n",
    "#     if 'TM' in cat_cols:\n",
    "#         cat_cols.remove('TM')\n",
    "#     merged = pd.get_dummies(merged, columns=cat_cols, drop_first=True)\n",
    "\n",
    "#     # 결측치 제거(특히 타겟)\n",
    "#     merged = merged.dropna(subset=['call_count'])\n",
    "\n",
    "#     # 숫자형 피처만 추출\n",
    "#     feature_cols = merged.select_dtypes(include=['float64', 'int64']).columns.tolist()\n",
    "#     feature_cols = [c for c in feature_cols if c not in ['call_count', 'TM', 'stn', 'tm']]\n",
    "\n",
    "#     # 결측치 보간\n",
    "#     merged[feature_cols] = merged[feature_cols].interpolate(method='linear', limit_direction='both')\n",
    "\n",
    "#     X = merged[feature_cols]\n",
    "#     y = merged['call_count']\n",
    "\n",
    "#     # 학습/평가\n",
    "#     X_train, X_test, y_train, y_test = train_test_split(X, y, test_size=0.2, random_state=42)\n",
    "#     model = LinearRegression()\n",
    "#     model.fit(X_train, y_train)\n",
    "\n",
    "#     y_pred = model.predict(X_test)\n",
    "#     rmse = mean_squared_error(y_test, y_pred, squared=False)\n",
    "#     r2 = r2_score(y_test, y_pred)\n",
    "\n",
    "#     print(f\"✅ RMSE: {rmse:.4f}\")\n",
    "#     print(f\"✅ R^2: {r2:.4f}\")\n",
    "\n",
    "#     return merged, model, feature_cols\n"
   ]
  },
  {
   "cell_type": "code",
   "execution_count": null,
   "id": "30359e81",
   "metadata": {},
   "outputs": [],
   "source": [
    "def merge_and_predict(call119, solar):\n",
    "    import pandas as pd\n",
    "    from sklearn.model_selection import train_test_split\n",
    "    from sklearn.linear_model import LinearRegression\n",
    "    from sklearn.metrics import mean_squared_error, r2_score\n",
    "    import numpy as np\n",
    "\n",
    "    # 컬럼명 정리\n",
    "    \n",
    "\n",
    "    # 병합\n",
    "    merged = call119.merge(solar[['TM', 'avg_solar']], on='TM', how='left')\n",
    "\n",
    "    # 범주형 컬럼 자동 인코딩 (문자열 전부)\n",
    "    cat_cols = merged.select_dtypes(include=['object']).columns.tolist()\n",
    "    if 'TM' in cat_cols:\n",
    "        cat_cols.remove('TM')\n",
    "    merged = pd.get_dummies(merged, columns=cat_cols, drop_first=True)\n",
    "\n",
    "    # 결측치 제거(특히 타겟)\n",
    "    merged = merged.dropna(subset=['call_count'])\n",
    "\n",
    "    # 숫자형 피처만 추출\n",
    "    feature_cols = merged.select_dtypes(include=['float64', 'int64']).columns.tolist()\n",
    "    feature_cols = [c for c in feature_cols if c not in ['call_count', 'TM', 'stn', 'tm']]\n",
    "\n",
    "    # 결측치 보간\n",
    "    merged[feature_cols] = merged[feature_cols].interpolate(method='linear', limit_direction='both')\n",
    "\n",
    "    X = merged[feature_cols]\n",
    "    y = merged['call_count']\n",
    "\n",
    "    # 학습/평가\n",
    "    X_train, X_test, y_train, y_test = train_test_split(X, y, test_size=0.2, random_state=42)\n",
    "    model = LinearRegression()\n",
    "    model.fit(X_train, y_train)\n",
    "\n",
    "    y_pred = model.predict(X_test)\n",
    "    mse = mean_squared_error(y_test, y_pred)\n",
    "    rmse = np.sqrt(mse)\n",
    "    r2 = r2_score(y_test, y_pred)\n",
    "\n",
    "    print(f\"✅ RMSE: {rmse:.4f}\")\n",
    "    print(f\"✅ R^2: {r2:.4f}\")\n",
    "\n",
    "    return merged, model, feature_cols"
   ]
  },
  {
   "cell_type": "code",
   "execution_count": null,
   "id": "65d83bf4",
   "metadata": {},
   "outputs": [],
   "source": [
    "# def preprocess_and_predict_test(test_call119, solar, model, train_columns):\n",
    "#     import pandas as pd\n",
    "\n",
    "#     # 1. 날짜 처리\n",
    "#     test_call119['TM'] = pd.to_datetime(test_call119['TM'].astype(str), format='%Y%m%d')\n",
    "#     solar['TM'] = pd.to_datetime(solar['TM'])\n",
    "\n",
    "#     # 2. 컬럼명 정리\n",
    "#     test_call119 = test_call119.rename(columns={\n",
    "#         'stn': 'STN',\n",
    "#         'ta_max': 'ta_max',\n",
    "#         'ta_min': 'ta_min',\n",
    "#         'ta_max_min': 'ta_max_min',\n",
    "#         'hm_min': 'hm_min',\n",
    "#         'hm_max': 'hm_max',\n",
    "#         'ws_max': 'ws_max',\n",
    "#         'ws_ins_max': 'ws_ins_max',\n",
    "#         'rn_day': 'rn_day',\n",
    "#         'sub_address': 'sub_address'\n",
    "#     })\n",
    "\n",
    "#     # 3. 병합\n",
    "#     test_merged = test_call119.merge(solar, on=['TM', 'stn'], how='left')\n",
    "\n",
    "#     # 4. 지역 더미 변수 (prefix 없이)\n",
    "#     test_merged = pd.get_dummies(test_merged, columns=['sub_address'], drop_first=True)\n",
    "\n",
    "#     # 5. 누락된 학습 컬럼 보정\n",
    "#     for col in train_columns:\n",
    "#         if col not in test_merged.columns:\n",
    "#             test_merged[col] = 0\n",
    "\n",
    "#     # 6. 컬럼 순서 정렬\n",
    "#     test_merged = test_merged[train_columns]\n",
    "\n",
    "#     # 7. 결측치 보간\n",
    "#     numeric_cols = test_merged.select_dtypes(include=['float64', 'int64']).columns\n",
    "#     test_merged[numeric_cols] = test_merged[numeric_cols].interpolate(method='linear', limit_direction='both')\n",
    "\n",
    "#     # 8. 예측\n",
    "#     y_pred = model.predict(test_merged)\n",
    "\n",
    "#     return y_pred"
   ]
  },
  {
   "cell_type": "code",
   "execution_count": null,
   "id": "ec68fff9",
   "metadata": {},
   "outputs": [],
   "source": [
    "def preprocess_and_predict_test(test_call119, solar, model, train_columns):\n",
    "    import pandas as pd\n",
    "\n",
    "\n",
    "    # 2. 병합 (STN 제거, TM만으로 병합)\n",
    "    test_merged = test_call119.merge(solar, on='TM', how='left')\n",
    "\n",
    "    # 3. 지역 더미 변수\n",
    "    test_merged = pd.get_dummies(test_merged, columns=['sub_address'], drop_first=True)\n",
    "\n",
    "    # 4. 학습시 사용된 컬럼과 동일하게 맞추기 (누락 컬럼 0으로 채움)\n",
    "    for col in train_columns:\n",
    "        if col not in test_merged.columns:\n",
    "            test_merged[col] = 0\n",
    "\n",
    "    # 5. 컬럼 순서 맞추기\n",
    "    test_merged = test_merged[train_columns]\n",
    "\n",
    "    # 6. 결측치 보간\n",
    "    numeric_cols = test_merged.select_dtypes(include=['float64', 'int64']).columns\n",
    "    test_merged[numeric_cols] = test_merged[numeric_cols].interpolate(method='linear', limit_direction='both')\n",
    "\n",
    "    # 7. 예측\n",
    "    y_pred = model.predict(test_merged)\n",
    "\n",
    "    return y_pred"
   ]
  },
  {
   "cell_type": "code",
   "execution_count": null,
   "id": "443a0aa2",
   "metadata": {},
   "outputs": [],
   "source": [
    "# 이상치(극단값)는 거의 없음 → 좋은 모델입니다.\n",
    "\n",
    "# RMSE와 MAE의 차이는 자연스러운 현상이며, 예측이 어려운 일부 사례가 RMSE에 조금 더 영향을 준 정도입니다.\n",
    "\n",
    "# R² = 0.9956, RMSE / 평균 = 1.43% → 실제로는 매우 안정적이고 정확한 모델이므로 걱정할 필요는 전혀 없습니다."
   ]
  }
 ],
 "metadata": {
  "kernelspec": {
   "display_name": "Python 3",
   "language": "python",
   "name": "python3"
  },
  "language_info": {
   "codemirror_mode": {
    "name": "ipython",
    "version": 3
   },
   "file_extension": ".py",
   "mimetype": "text/x-python",
   "name": "python",
   "nbconvert_exporter": "python",
   "pygments_lexer": "ipython3",
   "version": "3.12.9"
  }
 },
 "nbformat": 4,
 "nbformat_minor": 5
}
